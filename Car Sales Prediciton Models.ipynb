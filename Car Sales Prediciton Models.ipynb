{
  "nbformat": 4,
  "nbformat_minor": 0,
  "metadata": {
    "colab": {
      "provenance": [],
      "collapsed_sections": [
        "5Z86YFm3RYKj",
        "KEug4GA4R_um",
        "etAvocdeSJkG",
        "jC3EEbytSO8A",
        "xKhkvfHYSVU8",
        "rFlQesWEKr3T"
      ]
    },
    "kernelspec": {
      "name": "python3",
      "display_name": "Python 3"
    },
    "language_info": {
      "name": "python"
    }
  },
  "cells": [
    {
      "source": [
        "# CarStore3000 Data Science Project\n",
        "\n",
        "### Objective: To provide an algorithm capable of predicting which used cars will sell the fastest.\n"
      ],
      "cell_type": "markdown",
      "metadata": {
        "id": "pk9EqfzmQ9ke"
      }
    },
    {
      "source": [
        "## Data loading"
      ],
      "cell_type": "markdown",
      "metadata": {
        "id": "RYyToIlgQ9-Y"
      }
    },
    {
      "source": [
        "import pandas as pd\n",
        "import numpy as np\n",
        "import matplotlib.pyplot as plt\n",
        "import seaborn as sns\n",
        "\n",
        "df = pd.read_csv('VO_annonces_2015-ALL_CR.csv')\n",
        "display(df.head())\n",
        "display(df.info())\n"
      ],
      "cell_type": "code",
      "metadata": {
        "colab": {
          "base_uri": "https://localhost:8080/"
        },
        "collapsed": true,
        "id": "-R6RwgGJRLpc",
        "outputId": "2f1a7750-e132-43c1-8168-7cf9d68b364a"
      },
      "execution_count": null,
      "outputs": [
        {
          "output_type": "stream",
          "name": "stderr",
          "text": [
            "<ipython-input-15-9315c690edef>:6: DtypeWarning: Columns (7,12) have mixed types. Specify dtype option on import or set low_memory=False.\n",
            "  df = pd.read_csv('VO_annonces_2015-ALL_CR.csv')\n"
          ]
        }
      ]
    },
    {
      "source": [
        "## Data exploration\n",
        "\n"
      ],
      "cell_type": "markdown",
      "metadata": {
        "id": "5Z86YFm3RYKj"
      }
    },
    {
      "source": [
        "print(df.dtypes)\n",
        "print(df.describe(include='all'))\n",
        "\n",
        "#unique values\n",
        "for col in df.columns:\n",
        "    print(f\"Unique values in '{col}': {df[col].nunique()}\")\n",
        "\n",
        "# inspecting relevant columns\n",
        "print(df[['date_created', 'date_last_seen', 'price_eur']].describe(include='all'))\n"
      ],
      "cell_type": "code",
      "metadata": {
        "id": "FRlBgNo0RZRP"
      },
      "execution_count": null,
      "outputs": []
    },
    {
      "source": [
        "\n",
        "# Convert numeric columns to numeric types\n",
        "numeric_cols = ['mileage', 'manufacture_year', 'engine_displacement', 'engine_power', 'door_count', 'seat_count', 'price_eur']\n",
        "for col in numeric_cols:\n",
        "    df[col] = pd.to_numeric(df[col], errors='coerce')\n",
        "\n",
        "# Handle price_eur outliers (replace unrealistic values with NaN)\n",
        "df.loc[df['price_eur'] < 100, 'price_eur'] = np.nan\n",
        "\n",
        "# Convert date columns to datetime objects\n",
        "df['date_created'] = pd.to_datetime(df['date_created'], errors='coerce')\n",
        "df['date_last_seen'] = pd.to_datetime(df['date_last_seen'], errors='coerce')\n",
        "\n",
        "# Display basic info again\n",
        "display(df.info())\n",
        "display(df.describe())\n",
        "\n",
        "# Number of ads (rows)\n",
        "num_ads = len(df)\n",
        "print(f\"\\nNumber of ads scanned: {num_ads}\")"
      ],
      "cell_type": "code",
      "metadata": {
        "id": "_93hfaYrRxfZ"
      },
      "execution_count": null,
      "outputs": []
    },
    {
      "source": [
        "## Data cleaning\n",
        "Handling missing values, converting data types, and filtering to year 2016.\n"
      ],
      "cell_type": "markdown",
      "metadata": {
        "id": "KEug4GA4R_um"
      }
    },
    {
      "source": [
        "# Removing Irrelevant Columns to narrow data set for efficiency\n",
        "irrelevant_cols = ['color_slug', 'stk_year', 'door_count', 'seat_count','fuel_type']\n",
        "df.drop(columns=irrelevant_cols, inplace=True, errors='ignore')\n",
        "\n",
        "# Changing to correct typer\n",
        "for col in ['mileage', 'manufacture_year', 'engine_displacement', 'price_eur']:\n",
        "    df[col] = pd.to_numeric(df[col], errors='coerce')\n",
        "\n",
        "df['date_created'] = pd.to_datetime(df['date_created'], errors='coerce')\n",
        "df['date_last_seen'] = pd.to_datetime(df['date_last_seen'], errors='coerce')\n",
        "\n",
        "df = df.drop_duplicates()\n",
        "\n",
        "# Removing invalid rows\n",
        "df = df.dropna(subset=[\"price_eur\", \"date_created\", \"date_last_seen\",\"maker\"])\n",
        "\n"
      ],
      "cell_type": "code",
      "metadata": {
        "collapsed": true,
        "id": "uHiLEEqzSBHW"
      },
      "execution_count": null,
      "outputs": []
    },
    {
      "source": [
        "## Data wrangling\n",
        "\n",
        "Creating new features, such as ad duration, car age, and a flag for \"forgotten\" ads.\n"
      ],
      "cell_type": "markdown",
      "metadata": {
        "id": "etAvocdeSJkG"
      }
    },
    {
      "source": [
        "# Ad Duration\n",
        "df[\"days_online\"] = (df['date_last_seen'] - df['date_created']).dt.days\n",
        "df = df[df[\"days_online\"] > 0]\n",
        "\n",
        "# Calculating Car Age\n",
        "df['car_age'] = df['date_created'].dt.year - df['manufacture_year']\n",
        "\n",
        "# histogram of days online\n",
        "plt.figure(figsize=(10,5))\n",
        "sns.histplot(df[\"days_online\"], bins=50, kde=True)\n",
        "plt.xlabel(\"Days Online\")\n",
        "plt.ylabel(\"Frequency\")\n",
        "plt.title(\"Distribution of Days Online (Used Car Listings in 2016)\")\n",
        "plt.show()\n",
        "\n",
        "threshold_forgotten = df[\"days_online\"].quantile(0.99) #175 days\n",
        "\n",
        "# Identify \"Forgotten\" Ads with threshold estimated around 67.5 days & 145 days - points of major drop off - indicative of removed ads & hence forgotten ads)\n",
        "## Assigns boolean (T/F) based on whether it is forgotten or not\n",
        "df['forgotten_ad'] = df[\"days_online\"] > 145\n",
        "df['forgotten_ad'] = (df[\"days_online\"] > 67.5) & (df[\"days_online\"] < 80)\n",
        "\n",
        "# filtering for 2016\n",
        "df['year_created'] = df['date_created'].dt.year\n",
        "df_2016 = df[df['year_created'] == 2016].copy()\n",
        "\n",
        "display(df_2016.head())"
      ],
      "cell_type": "code",
      "metadata": {
        "collapsed": true,
        "id": "6E3Id_DpSKZF"
      },
      "execution_count": null,
      "outputs": []
    },
    {
      "source": [
        "## Data analysis\n"
      ],
      "cell_type": "markdown",
      "metadata": {
        "id": "jC3EEbytSO8A"
      }
    },
    {
      "source": [
        "# Q1: Total Ads Scanned\n",
        "total_ads = len(df)\n",
        "print(\"=\"*50)\n",
        "print(f\"Total Ads Correctly Scanned: {total_ads}\")\n",
        "\n",
        "# Q2: Total Used Cars Sold via Classified Ads in 2016\n",
        "df_2016 = df[df[\"date_last_seen\"].dt.year == 2016]\n",
        "total_sold_2016 = len(df_2016)\n",
        "print(\"=\"*50)\n",
        "print(f\"Total Used Cars Sold via Classified Ads in 2016: {total_sold_2016}\")\n",
        "\n",
        "# Q3: Market Size (Total Value of Used Cars Sold in 2016)\n",
        "market_size_2016 = df_2016[\"price_eur\"].sum()\n",
        "print(\"=\"*50)\n",
        "print(f\"Market Size in 2016: €{market_size_2016:,.2f}\")\n",
        "\n",
        "# Q4: Sum of Value Purchased for Each Brand\n",
        "brand_value = df.groupby(\"maker\")[\"price_eur\"].sum()\n",
        "print(\"=\"*50)\n",
        "print(\"Sum of Value Purchased for Each Brand:\")\n",
        "print(brand_value.to_string())\n",
        "\n",
        "# Q5: Market Share of Each Brand\n",
        "market_share = (brand_value / df[\"price_eur\"].sum()) * 100\n",
        "print(\"=\"*50)\n",
        "print(\"Market Share of Each Brand (%):\")\n",
        "print(market_share.to_string())\n",
        "\n",
        "\n",
        "# Q6: Average Days Online in 2016\n",
        "avg_days_online_2016 = df_2016[\"days_online\"].mean()\n",
        "print(\"=\"*50)\n",
        "print(f\"Average Days Online in 2016: {avg_days_online_2016:.2f} days\")\n",
        "\n",
        "# Q7: Average age of used cars sold in 2016\n",
        "df_sold_2016 = df_2016[df_2016[\"date_last_seen\"].dt.year < 2017]\n",
        "avg_car_age_2016 = df_sold_2016[\"car_age\"].mean()\n",
        "print(\"=\"*50)\n",
        "print(f\"Average Age of Used Cars Sold in 2016: {avg_car_age_2016:.2f} years\")\n",
        "\n",
        "# Q8: Estimated number of forgotten ads\n",
        "num_forgotten_ads = df[df['forgotten_ad']].shape[0]\n",
        "print(\"=\"*50)\n",
        "print(f\"Estimated Forgotten Ads: {num_forgotten_ads}\")\n",
        "\n",
        "# Q9: Average Time to Sell (excluding forgotten ads)\n",
        "df_filtered = df_2016[~df_2016['forgotten_ad']]\n",
        "avg_days_online_filtered = df_filtered[\"days_online\"].mean()\n",
        "print(\"=\"*50)\n",
        "print(f\"Average Days to Sell (Excluding Forgotten Ads): {avg_days_online_filtered:.2f} days\")\n",
        "\n",
        "# Q10: Five Fastest Selling Models in 2016\n",
        "fastest_models = df_filtered.groupby(\"model\")[\"days_online\"].mean().nsmallest(5)\n",
        "print(\"=\"*50)\n",
        "print(\"Five Fastest Selling Models in 2016 (Excluding Forgotten Ads):\")\n",
        "print(fastest_models.to_string())\n"
      ],
      "cell_type": "code",
      "metadata": {
        "collapsed": true,
        "id": "5pdASbKdSQfj"
      },
      "execution_count": null,
      "outputs": []
    },
    {
      "source": [
        "## Data visualization"
      ],
      "cell_type": "markdown",
      "metadata": {
        "id": "xKhkvfHYSVU8"
      }
    },
    {
      "source": [
        "#Market Share by Brand\n",
        "plt.figure(figsize=(12, 6))\n",
        "market_share .sort_values(ascending=False).plot(kind='bar')\n",
        "plt.title('Market Share by Brand (2016)')\n",
        "plt.xlabel('Brand')\n",
        "plt.ylabel('Market Share')\n",
        "plt.xticks(rotation=45, ha='right')\n",
        "plt.tight_layout()\n",
        "plt.show()\n",
        "\n",
        "\n",
        "# Distribution of Ad Duration\n",
        "plt.figure(figsize=(10, 5))\n",
        "plt.hist(df_2016['days_online'], bins=50, color='skyblue', edgecolor='black')\n",
        "plt.axvline(df_2016['days_online'].mean(), color='red', linestyle='dashed', linewidth=1, label='Average Ad Duration')\n",
        "plt.title('Distribution of Ad Durations (2016)')\n",
        "plt.xlabel('Ad Duration (Days)')\n",
        "plt.ylabel('Number of Ads')\n",
        "plt.legend()\n",
        "plt.tight_layout()\n",
        "plt.show()\n",
        "\n",
        "\n",
        "# Distribution of Time to Sell (excluding \"forgotten\" ads)\n",
        "plt.figure(figsize=(10, 5))\n",
        "plt.hist(df_2016.loc[~df_2016['forgotten_ad'], 'days_online'], bins=30, color='lightgreen', edgecolor='black')\n",
        "plt.axvline(df_2016.loc[~df_2016['forgotten_ad'], 'days_online'].mean(), color='red', linestyle='dashed', linewidth=1, label='Average Time to Sell')\n",
        "plt.title('Distribution of Time to Sell (2016, Excluding Forgotten Ads)')\n",
        "plt.xlabel('Time to Sell (Days)')\n",
        "plt.ylabel('Number of Ads')\n",
        "plt.legend()\n",
        "plt.tight_layout()\n",
        "plt.show()\n"
      ],
      "cell_type": "code",
      "metadata": {
        "id": "LB5CFy_aSWcF"
      },
      "execution_count": null,
      "outputs": []
    },
    {
      "source": [
        "## Data Analysis Summary:\n",
        "\n",
        "### 1. Data Analysis Key Findings\n",
        "\n",
        "* **Market Dominance:** BMW and Renault held the largest market share (~46.6% and ~47%) in 2016.\n",
        "* **Significant \"Forgotten\" Ads:** A substantial number of ads were classified as \"forgotten,\" indicating a potential issue with ad management or prolonged sales cycles.\n",
        "* **High Market Value:** The total market value of used cars sold in 2016 was exceptionally high, suggesting a large and active used car market.\n",
        "\n",
        "\n",
        "### 2. Insights or Next Steps\n",
        "\n",
        "* **Inventory Strategy:** CarStore3000 should prioritize stocking the fastest-selling models (418i, Siena, 730i, Tacoma, and e300-td) identified in the analysis, but also consider expanding the list beyond the top 5 to ensure broader market coverage.  They should explore the reasons behind the \"forgotten\" ads and see if improvements to their own sales process can reduce the number of ads with prolonged sales cycles."
      ],
      "cell_type": "markdown",
      "metadata": {
        "id": "advFCGToSdum"
      }
    },
    {
      "cell_type": "markdown",
      "source": [
        "# Machine Learning Models for Prediction\n"
      ],
      "metadata": {
        "id": "aBGtOEmQWyRk"
      }
    },
    {
      "source": [
        "from sklearn.model_selection import train_test_split\n",
        "from sklearn.linear_model import LinearRegression\n",
        "from sklearn.ensemble import RandomForestRegressor\n",
        "from sklearn.metrics import mean_absolute_error, r2_score\n",
        "\n",
        "features = [\"maker\", \"model\", \"mileage\", \"manufacture_year\", \"engine_displacement\",\n",
        "            \"engine_power\", \"transmission\", \"price_eur\"]\n",
        "\n",
        "df_model = df_2016[features + [\"days_online\"]].dropna()\n",
        "\n",
        "df_model = df_model.sample(n=10_000, random_state=42)\n",
        "\n",
        "df_model = pd.get_dummies(df_model, columns=[\"maker\", \"model\", \"transmission\"])\n",
        "\n",
        "X = df_model.drop(\"days_online\", axis=1)\n",
        "y = df_model[\"days_online\"]\n",
        "\n",
        "#Spliting data sets\n",
        "X_train, X_test, y_train, y_test = train_test_split(X, y, test_size=0.2, random_state=42)\n",
        "\n",
        "# Random Forest\n",
        "model = RandomForestRegressor(n_estimators=100, random_state=42)\n",
        "model.fit(X_train, y_train)\n",
        "\n",
        "# Linear Regression\n",
        "linear_model = LinearRegression()\n",
        "linear_model.fit(X_train, y_train)\n",
        "\n",
        "# Evaluation\n",
        "def evaluate_model(model, X_test, y_test):\n",
        "    y_pred = model.predict(X_test)\n",
        "    mae = mean_absolute_error(y_test, y_pred)\n",
        "    r2 = r2_score(y_test, y_pred)\n",
        "    return mae, r2\n",
        "\n",
        "models = {\"Random Forest\": model, \"Linear Regression\": linear_model}\n",
        "print(\"=\"*50)\n",
        "print(\"Model Evaluation Results\")\n",
        "print(\"=\"*50)\n",
        "\n",
        "for name, model in models.items():\n",
        "    mae, r2 = evaluate_model(model, X_test, y_test)\n",
        "    print(f\"{name}:\")\n",
        "    print(f\"   Mean Absolute Error (MAE): {mae:.2f} days\")\n",
        "    print(f\"   R² Score: {r2:.4f}\")\n",
        "    print(\"-\"*50)\n",
        "\n"
      ],
      "cell_type": "code",
      "metadata": {
        "id": "0WQlnAR3Yf2j"
      },
      "execution_count": null,
      "outputs": []
    },
    {
      "cell_type": "markdown",
      "source": [
        "## Model Evaluation Results\n",
        "\n",
        "Random Forest:\n",
        "   Mean Absolute Error (MAE): 32.55 days\n",
        "   R² Score: 0.1991\n",
        "\n",
        "Linear Regression:\n",
        "   Mean Absolute Error (MAE): 38.25 days\n",
        "   R² Score: -0.1642\n",
        "\n",
        "Therefore Random Forest will be a better model and is a better fit for the data given it's positive R^2 score and lower Mean Absolute Error."
      ],
      "metadata": {
        "id": "oOUV6T1zKkeU"
      }
    },
    {
      "cell_type": "markdown",
      "source": [
        "## Attractiveness Score Prediction"
      ],
      "metadata": {
        "id": "rFlQesWEKr3T"
      }
    },
    {
      "cell_type": "code",
      "source": [
        "max_days_online = df_2016[\"days_online\"].max()\n",
        "min_days_online = df_2016[\"days_online\"].min()\n",
        "avg_days_online = df_2016[\"days_online\"].mean()\n",
        "\n",
        "# attractiveness Score Function\n",
        "def compute_attractiveness(days):\n",
        "    return np.tanh((avg_days_online - days) / (max_days_online - min_days_online))\n",
        "\n",
        "rf_attractiveness = np.array([compute_attractiveness(days) for days in y_pred_rf])\n",
        "lr_attractiveness = np.array([compute_attractiveness(days) for days in y_pred_lr])\n",
        "\n",
        "#  sample results\n",
        "print(\"=\"*50)\n",
        "print(\"Random Forest - Sample Predictions and Attractiveness Scores\")\n",
        "for i in range(5):\n",
        "    print(f\"Predicted Days: {y_pred_rf[i]:.2f} -> Attractiveness Score: {rf_attractiveness[i]:.4f}\")\n",
        "\n",
        "print(\"=\"*50)\n",
        "print(\"Linear Regression - Sample Predictions and Attractiveness Scores\")\n",
        "for i in range(5):\n",
        "    print(f\"Predicted Days: {y_pred_lr[i]:.2f} -> Attractiveness Score: {lr_attractiveness[i]:.4f}\")\n",
        "\n"
      ],
      "metadata": {
        "id": "yDg-NLlkKqrc"
      },
      "execution_count": null,
      "outputs": []
    }
  ]
}